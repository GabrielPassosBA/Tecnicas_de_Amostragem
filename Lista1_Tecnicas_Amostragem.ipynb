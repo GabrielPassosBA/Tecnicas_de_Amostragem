{
 "cells": [
  {
   "cell_type": "markdown",
   "id": "beb7b657-ef5c-4fec-ad60-b8c1faf1658f",
   "metadata": {},
   "source": [
    "### 1. Se uma amostra aleatória n=25, tem uma média amostral de 51,3 e uma desvio padrão populacional de σ=2. Construa o intervalo com 95% de confiança para a média populacional µ."
   ]
  },
  {
   "cell_type": "code",
   "execution_count": 19,
   "id": "d2b77f38-2ef6-4389-8d20-3807b5a52de6",
   "metadata": {},
   "outputs": [],
   "source": [
    "import scipy.stats as stats"
   ]
  },
  {
   "cell_type": "code",
   "execution_count": 20,
   "id": "618b9289-0758-4641-9300-29ea122a8063",
   "metadata": {},
   "outputs": [],
   "source": [
    "n = 25\n",
    "media = 51.3\n",
    "sigma = 2\n",
    "alpha = 0.05"
   ]
  },
  {
   "cell_type": "code",
   "execution_count": 21,
   "id": "c8c2276e-f5d2-4f20-b021-1744c67a2889",
   "metadata": {},
   "outputs": [
    {
     "data": {
      "text/plain": [
       "1.959963984540054"
      ]
     },
     "execution_count": 21,
     "metadata": {},
     "output_type": "execute_result"
    }
   ],
   "source": [
    "# Valor crítico Z\n",
    "zc = stats.norm.ppf(1 - alpha/2)\n",
    "zc"
   ]
  },
  {
   "cell_type": "code",
   "execution_count": 22,
   "id": "67e0b7ba-a3a2-4584-99fe-528b6774fb2f",
   "metadata": {},
   "outputs": [
    {
     "data": {
      "text/plain": [
       "0.7839855938160216"
      ]
     },
     "execution_count": 22,
     "metadata": {},
     "output_type": "execute_result"
    }
   ],
   "source": [
    "# Erro amostral\n",
    "erro = zc * (sigma / (n ** 0.5))\n",
    "erro"
   ]
  },
  {
   "cell_type": "code",
   "execution_count": 23,
   "id": "08ad4fe1-43b0-4e73-b422-80bfcdc71b9c",
   "metadata": {},
   "outputs": [
    {
     "name": "stdout",
     "output_type": "stream",
     "text": [
      "(50.51601440618398, 52.08398559381602)\n"
     ]
    }
   ],
   "source": [
    "# Intervalo de confiança\n",
    "intervalo_confianca = (media - erro, media + erro)\n",
    "print(intervalo_confianca)"
   ]
  },
  {
   "cell_type": "markdown",
   "id": "a469c53e-ba5d-4340-89b7-b121350ab845",
   "metadata": {},
   "source": [
    "### 2. Sabe-se que a vida em horas de um bulbo de lâmpada de 75W é distribuída de forma aproximadamente normal com desvio padrão de σ=25. Uma amostra aleatória de 20 bulbos tem uma vida media de 1.014 horas. Construa um intervalo de confiança de 95% para a vida média. "
   ]
  },
  {
   "cell_type": "code",
   "execution_count": 24,
   "id": "e9c18ff9-01ba-43f0-a23e-dbf6df0c9e99",
   "metadata": {},
   "outputs": [],
   "source": [
    "n = 20\n",
    "media = 1014\n",
    "sigma = 25\n",
    "alpha = 0.05"
   ]
  },
  {
   "cell_type": "code",
   "execution_count": 25,
   "id": "869d8109-9c05-4a1f-bb2a-f43bb45c3dd5",
   "metadata": {},
   "outputs": [
    {
     "data": {
      "text/plain": [
       "1.959963984540054"
      ]
     },
     "execution_count": 25,
     "metadata": {},
     "output_type": "execute_result"
    }
   ],
   "source": [
    "zc = stats.norm.ppf(1 - alpha/2)\n",
    "zc"
   ]
  },
  {
   "cell_type": "code",
   "execution_count": 26,
   "id": "919ea53e-9b34-429f-b5f0-a84dad6378cf",
   "metadata": {},
   "outputs": [
    {
     "data": {
      "text/plain": [
       "10.956531757207268"
      ]
     },
     "execution_count": 26,
     "metadata": {},
     "output_type": "execute_result"
    }
   ],
   "source": [
    "erro = zc * (sigma / (n ** 0.5))\n",
    "erro"
   ]
  },
  {
   "cell_type": "code",
   "execution_count": 27,
   "id": "cafcb05d-bd80-4538-8c37-5a15fe864adc",
   "metadata": {},
   "outputs": [
    {
     "name": "stdout",
     "output_type": "stream",
     "text": [
      "(1003.0434682427928, 1024.9565317572074)\n"
     ]
    }
   ],
   "source": [
    "intervalo_confianca = (media - erro, media + erro)\n",
    "print(intervalo_confianca)"
   ]
  },
  {
   "cell_type": "markdown",
   "id": "29fb304a-6c71-41e2-b481-952b06322da4",
   "metadata": {},
   "source": [
    "### 3. Qual deve ser o tamanho da amostra para que o intervalo com 99,5% de confiança para a média populacional tenha uma semi amplitude não superior a 1,5? Sabe-se que a variância populacional é de 23."
   ]
  },
  {
   "cell_type": "code",
   "execution_count": 28,
   "id": "472c97fe-7928-42a2-93fa-b976210ce02e",
   "metadata": {},
   "outputs": [],
   "source": [
    "import math"
   ]
  },
  {
   "cell_type": "code",
   "execution_count": 31,
   "id": "f1e2e182-2898-4da5-b33c-de899c0ea992",
   "metadata": {},
   "outputs": [],
   "source": [
    "nivel_confianca = 0.995\n",
    "sigma = math.sqrt(23)  \n",
    "aplitude = 1.5  "
   ]
  },
  {
   "cell_type": "code",
   "execution_count": 32,
   "id": "db400f8a-a37a-4455-8c41-b3881e728201",
   "metadata": {},
   "outputs": [
    {
     "data": {
      "text/plain": [
       "2.807033768343811"
      ]
     },
     "execution_count": 32,
     "metadata": {},
     "output_type": "execute_result"
    }
   ],
   "source": [
    "zc = stats.norm.ppf(1 - (1 - nivel_confianca) / 2)\n",
    "zc"
   ]
  },
  {
   "cell_type": "code",
   "execution_count": 35,
   "id": "9d0f37c8-7c01-45e2-9802-9ebbc119f441",
   "metadata": {},
   "outputs": [
    {
     "data": {
      "text/plain": [
       "81"
      ]
     },
     "execution_count": 35,
     "metadata": {},
     "output_type": "execute_result"
    }
   ],
   "source": [
    "n = ((((zc * sigma) / aplitude))**2)\n",
    "n = math.ceil(n)  \n",
    "n"
   ]
  },
  {
   "cell_type": "markdown",
   "id": "7db56391-3f4a-4c68-955c-648edd46a496",
   "metadata": {},
   "source": [
    "### 4. Calcular o intervalo de confiança de 95% para a seguinte amostra, com variância populacional desconhecida:   19,8  18,5 17,6 16,7 15,8 15,4 14,1 13,6 11,9 11,4 11,4 8,8 7,5 15,4 15,4 19,5 14,9 12,7 11,9 11,4 10,1 7,9 "
   ]
  },
  {
   "cell_type": "code",
   "execution_count": 36,
   "id": "2601197d-b499-48bb-8293-20585675e49f",
   "metadata": {},
   "outputs": [],
   "source": [
    "import numpy as np"
   ]
  },
  {
   "cell_type": "code",
   "execution_count": 37,
   "id": "88072f67-a001-4119-84f3-a1c50a947951",
   "metadata": {},
   "outputs": [],
   "source": [
    "dados = [19.8, 18.5, 17.6, 16.7, 15.8, 15.4, 14.1, 13.6, 11.9, 11.4, \n",
    "        11.4, 8.8, 7.5, 15.4, 15.4, 19.5, 14.9, 12.7, 11.9, 11.4, \n",
    "        10.1, 7.9]"
   ]
  },
  {
   "cell_type": "code",
   "execution_count": 38,
   "id": "cc1bb767-c35a-4776-9d02-639266fc6041",
   "metadata": {},
   "outputs": [
    {
     "name": "stdout",
     "output_type": "stream",
     "text": [
      "13.713636363636363 3.5535757249424744 22\n"
     ]
    }
   ],
   "source": [
    "media = np.mean(dados)\n",
    "ds = np.std(dados, ddof=1)\n",
    "n = len(dados)"
   ]
  },
  {
   "cell_type": "code",
   "execution_count": 39,
   "id": "f0dd5dbe-c90c-48f5-9f1d-32eb0c6b9650",
   "metadata": {},
   "outputs": [],
   "source": [
    "nivel_confianca = 0.95\n",
    "alpha = 1 - nivel_confianca\n",
    "gl = n - 1  "
   ]
  },
  {
   "cell_type": "code",
   "execution_count": 41,
   "id": "d7a921ea-dc89-4ee1-b947-9f55034456bd",
   "metadata": {},
   "outputs": [
    {
     "data": {
      "text/plain": [
       "2.079613844727662"
      ]
     },
     "execution_count": 41,
     "metadata": {},
     "output_type": "execute_result"
    }
   ],
   "source": [
    "tc = stats.t.ppf(1 - alpha/2, gl)\n",
    "tc"
   ]
  },
  {
   "cell_type": "code",
   "execution_count": 42,
   "id": "576c75dc-eb4e-42a6-a72d-7bda8a2ff7d1",
   "metadata": {},
   "outputs": [
    {
     "data": {
      "text/plain": [
       "1.5755672107320198"
      ]
     },
     "execution_count": 42,
     "metadata": {},
     "output_type": "execute_result"
    }
   ],
   "source": [
    "erro = (tc * (ds / np.sqrt(n)))\n",
    "erro"
   ]
  },
  {
   "cell_type": "code",
   "execution_count": 43,
   "id": "e6cb56e4-4b9f-40be-bd99-39e9ad31e406",
   "metadata": {},
   "outputs": [
    {
     "name": "stdout",
     "output_type": "stream",
     "text": [
      "(12.138069152904343, 15.289203574368383)\n"
     ]
    }
   ],
   "source": [
    "intervalo_confianca = (media - erro, media + erro)\n",
    "print(intervalo_confianca)"
   ]
  },
  {
   "cell_type": "markdown",
   "id": "f91f7cd5-3a77-42ea-ad04-b8ffb3135d81",
   "metadata": {},
   "source": [
    "### 5. Uma marca particular de margarina diet foi analisada para determinar o nível em porcentagem de ácidos graxos insaturados. Uma amostra de seis pacotes resultou nos seguintes dados: 16,8; 17,2; 17,4; 16,9; 16,5 e 17,1. Encontre o intervalo de confiança de 99% para a amostra. "
   ]
  },
  {
   "cell_type": "code",
   "execution_count": 46,
   "id": "5e6c5e79-926a-4fd5-a805-e49bc2bb5ec1",
   "metadata": {},
   "outputs": [],
   "source": [
    "dados = [16.8, 17.2, 17.4, 16.9, 16.5, 17.1]"
   ]
  },
  {
   "cell_type": "code",
   "execution_count": 47,
   "id": "ca1d38e4-6024-44bb-960a-d35b1a4fc0df",
   "metadata": {},
   "outputs": [
    {
     "name": "stdout",
     "output_type": "stream",
     "text": [
      "16.983333333333334 0.31885210782848283 6 5\n"
     ]
    }
   ],
   "source": [
    "media = np.mean(dados)\n",
    "ds = np.std(dados, ddof=1)\n",
    "n = len(dados)\n",
    "gl = n - 1\n"
   ]
  },
  {
   "cell_type": "code",
   "execution_count": 48,
   "id": "6ce547bc-7846-4034-b130-fecdf99653b6",
   "metadata": {},
   "outputs": [],
   "source": [
    "nivel_confianca = 0.99\n",
    "alpha = 1 - nivel_confianca"
   ]
  },
  {
   "cell_type": "code",
   "execution_count": 49,
   "id": "3626556d-43f2-425e-b3f0-60334b5176cc",
   "metadata": {},
   "outputs": [
    {
     "data": {
      "text/plain": [
       "4.032142983557536"
      ]
     },
     "execution_count": 49,
     "metadata": {},
     "output_type": "execute_result"
    }
   ],
   "source": [
    "tc = stats.t.ppf(1 - alpha/2, gl)\n",
    "tc"
   ]
  },
  {
   "cell_type": "code",
   "execution_count": 50,
   "id": "3e07be72-4d2d-4698-88a3-0e413367962a",
   "metadata": {},
   "outputs": [
    {
     "data": {
      "text/plain": [
       "0.5248673905089918"
      ]
     },
     "execution_count": 50,
     "metadata": {},
     "output_type": "execute_result"
    }
   ],
   "source": [
    "erro = (tc * (ds / np.sqrt(n)))\n",
    "erro"
   ]
  },
  {
   "cell_type": "code",
   "execution_count": 51,
   "id": "f1328e50-131d-4b14-a0fb-11a1ede71f81",
   "metadata": {},
   "outputs": [
    {
     "name": "stdout",
     "output_type": "stream",
     "text": [
      "(16.458465942824343, 17.508200723842325)\n"
     ]
    }
   ],
   "source": [
    "intervalo_confianca = (media - erro, media + erro)\n",
    "print(intervalo_confianca)"
   ]
  },
  {
   "cell_type": "markdown",
   "id": "2e887a4d-018a-4e32-8c30-4e36e2da2531",
   "metadata": {},
   "source": [
    "### 6. Uma amostra piloto com 12 elementos tece média de 6,7 e desvio padrão de 1,7. Qual deve ser o tamanho da amostra para que a semi amplitude do intervalo de 99,5% de confiança da média populacional não seja superior a 0,8 ."
   ]
  },
  {
   "cell_type": "code",
   "execution_count": 73,
   "id": "7a6a6589-26b4-4242-9d13-91857fba542f",
   "metadata": {},
   "outputs": [],
   "source": [
    "sigma = 1.7\n",
    "E = 0.8 \n",
    "nivel_confianca = 0.005"
   ]
  },
  {
   "cell_type": "code",
   "execution_count": 74,
   "id": "a8d836ab-4180-487c-8939-0b1a9d3c8697",
   "metadata": {},
   "outputs": [
    {
     "data": {
      "text/plain": [
       "2.807033768343811"
      ]
     },
     "execution_count": 74,
     "metadata": {},
     "output_type": "execute_result"
    }
   ],
   "source": [
    "Z = st.norm.ppf(1 - (1 - conf_level) / 2)\n",
    "Z"
   ]
  },
  {
   "cell_type": "code",
   "execution_count": 75,
   "id": "854daf48-e2ec-4866-a74c-8530c74ddc38",
   "metadata": {},
   "outputs": [
    {
     "data": {
      "text/plain": [
       "35.58058982256077"
      ]
     },
     "execution_count": 75,
     "metadata": {},
     "output_type": "execute_result"
    }
   ],
   "source": [
    "n = (z * sigma / E) ** 2\n",
    "n"
   ]
  },
  {
   "cell_type": "code",
   "execution_count": 76,
   "id": "830585cc-4687-457f-88fb-a74e3974ae01",
   "metadata": {},
   "outputs": [
    {
     "data": {
      "text/plain": [
       "36"
      ]
     },
     "execution_count": 76,
     "metadata": {},
     "output_type": "execute_result"
    }
   ],
   "source": [
    "n = math.ceil(n)\n",
    "\n",
    "n"
   ]
  },
  {
   "cell_type": "markdown",
   "id": "69b7a261-9836-4c46-9112-2801cbbc38ca",
   "metadata": {},
   "source": [
    "### 7. Em uma amostra aleatória de 85 mancais de eixos de manivelas de motores de automóveis, 10 têm um acabamento superficial mais rugoso do que as especificações permitidas. Calcule um intervalo de confiança para o 95% da proporção. "
   ]
  },
  {
   "cell_type": "code",
   "execution_count": 56,
   "id": "55313ed0-1e78-411d-b9af-21ea420b9d15",
   "metadata": {},
   "outputs": [],
   "source": [
    "n = 85 \n",
    "ar = 10\n",
    "alpha = 0.05\n",
    "p = ar / n"
   ]
  },
  {
   "cell_type": "code",
   "execution_count": 57,
   "id": "ed253bb5-a0a4-42bb-b1c7-998c8c0a8dad",
   "metadata": {},
   "outputs": [
    {
     "data": {
      "text/plain": [
       "1.959963984540054"
      ]
     },
     "execution_count": 57,
     "metadata": {},
     "output_type": "execute_result"
    }
   ],
   "source": [
    "zc = stats.norm.ppf(1 - alpha/2)\n",
    "zc"
   ]
  },
  {
   "cell_type": "code",
   "execution_count": 59,
   "id": "5f3cbb74-6bbc-4248-a5b9-2fcd91bc21a7",
   "metadata": {},
   "outputs": [
    {
     "data": {
      "text/plain": [
       "0.06849365377465083"
      ]
     },
     "execution_count": 59,
     "metadata": {},
     "output_type": "execute_result"
    }
   ],
   "source": [
    "erro =  zc * (np.sqrt((p_hat * (1-p_hat)) / n))\n",
    "erro"
   ]
  },
  {
   "cell_type": "code",
   "execution_count": 61,
   "id": "1e734a8f-6085-454f-98ca-dcc113e27f77",
   "metadata": {},
   "outputs": [
    {
     "name": "stdout",
     "output_type": "stream",
     "text": [
      "(0.04915340504887858, 0.18614071259818024)\n"
     ]
    }
   ],
   "source": [
    "intervalo_confianca = (p - erro, p + erro)\n",
    "print(intervalo_confianca)"
   ]
  },
  {
   "cell_type": "markdown",
   "id": "191ea52e-2ea8-40e5-a484-750a9449a4b8",
   "metadata": {},
   "source": [
    "### 8. De 1.000 casos selecionados de aleatoriamente de câncer de pulmão, 823 resultaram em morte. Construa um intervalo de confiança de 95% para a taxa de morte de câncer de pulmão. "
   ]
  },
  {
   "cell_type": "code",
   "execution_count": 79,
   "id": "e0f84207-228f-4e83-b566-0f910d86c95a",
   "metadata": {},
   "outputs": [],
   "source": [
    "n = 1000\n",
    "nm = 823\n",
    "alpha = 0.05\n",
    "p = nm / n"
   ]
  },
  {
   "cell_type": "code",
   "execution_count": 80,
   "id": "83f363b1-604d-4849-a49c-8a2c21ffcf82",
   "metadata": {},
   "outputs": [
    {
     "data": {
      "text/plain": [
       "1.959963984540054"
      ]
     },
     "execution_count": 80,
     "metadata": {},
     "output_type": "execute_result"
    }
   ],
   "source": [
    "zc = stats.norm.ppf(1 - alpha/2)\n",
    "zc"
   ]
  },
  {
   "cell_type": "code",
   "execution_count": 81,
   "id": "5733ff7d-895a-4079-967b-e2e56cdd7ed4",
   "metadata": {},
   "outputs": [
    {
     "data": {
      "text/plain": [
       "0.02365563670395143"
      ]
     },
     "execution_count": 81,
     "metadata": {},
     "output_type": "execute_result"
    }
   ],
   "source": [
    "erro = zc * np.sqrt((p_hat * (1-p_hat)) / n)\n",
    "erro"
   ]
  },
  {
   "cell_type": "code",
   "execution_count": 83,
   "id": "60641acf-d7b6-42a6-8ddd-8dd638619e09",
   "metadata": {},
   "outputs": [
    {
     "name": "stdout",
     "output_type": "stream",
     "text": [
      "(0.7993443632960485, 0.8466556367039514)\n"
     ]
    }
   ],
   "source": [
    "intervalo_confianca = (p - error, p + error)\n",
    "print(intervalo_confianca)"
   ]
  },
  {
   "cell_type": "markdown",
   "id": "367c9063-ab2b-4cf2-9592-e667ec9b1403",
   "metadata": {},
   "source": [
    "### 9. Sabe-se que a proporção de animais contaminados com uma determinada doença não é superior a 10%. Qual deve o tamanho da amostra para que a semi amplitude do intervalo com 92% de confiança para a fração populacional não seja superior a 2%? "
   ]
  },
  {
   "cell_type": "code",
   "execution_count": 86,
   "id": "3d6b5304-150f-4e12-bb5a-f499769675c3",
   "metadata": {},
   "outputs": [],
   "source": [
    "p = 0.1\n",
    "E = 0.02"
   ]
  },
  {
   "cell_type": "code",
   "execution_count": 87,
   "id": "add2e3b7-6213-4adf-8ea3-5a847b9e1b3d",
   "metadata": {},
   "outputs": [
    {
     "data": {
      "text/plain": [
       "1.7506860712521692"
      ]
     },
     "execution_count": 87,
     "metadata": {},
     "output_type": "execute_result"
    }
   ],
   "source": [
    "z_a = stats.norm.ppf(1 - (1-0.92)/2)\n",
    "z_a"
   ]
  },
  {
   "cell_type": "code",
   "execution_count": 88,
   "id": "a05a93b4-8305-45a7-abdd-70070df73e31",
   "metadata": {},
   "outputs": [
    {
     "data": {
      "text/plain": [
       "690"
      ]
     },
     "execution_count": 88,
     "metadata": {},
     "output_type": "execute_result"
    }
   ],
   "source": [
    "n = math.ceil((z_a**2 * p * (1-p)) / E**2)\n",
    "n"
   ]
  }
 ],
 "metadata": {
  "kernelspec": {
   "display_name": "Python 3 (ipykernel)",
   "language": "python",
   "name": "python3"
  },
  "language_info": {
   "codemirror_mode": {
    "name": "ipython",
    "version": 3
   },
   "file_extension": ".py",
   "mimetype": "text/x-python",
   "name": "python",
   "nbconvert_exporter": "python",
   "pygments_lexer": "ipython3",
   "version": "3.11.7"
  }
 },
 "nbformat": 4,
 "nbformat_minor": 5
}
