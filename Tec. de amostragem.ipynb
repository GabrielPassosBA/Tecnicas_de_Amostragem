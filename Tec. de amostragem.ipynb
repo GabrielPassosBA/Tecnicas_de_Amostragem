{
 "cells": [
  {
   "cell_type": "markdown",
   "id": "66a1eb5a-af41-4ff0-9c1b-641f4113cdbf",
   "metadata": {},
   "source": [
    "# Seleção por Amostrage probabilistica "
   ]
  },
  {
   "cell_type": "code",
   "execution_count": 1,
   "id": "cf87586b-1d96-4b5d-b24e-2c0aa3440faa",
   "metadata": {},
   "outputs": [
    {
     "name": "stdout",
     "output_type": "stream",
     "text": [
      "   total_bill   tip     sex smoker  day    time  size\n",
      "0       16.99  1.01  Female     No  Sun  Dinner     2\n",
      "1       10.34  1.66    Male     No  Sun  Dinner     3\n",
      "2       21.01  3.50    Male     No  Sun  Dinner     3\n",
      "3       23.68  3.31    Male     No  Sun  Dinner     2\n",
      "4       24.59  3.61  Female     No  Sun  Dinner     4\n"
     ]
    }
   ],
   "source": [
    "import numpy as np\n",
    "import pandas as pd\n",
    "import seaborn as sns\n",
    "\n",
    "# Carregando o dataset tips\n",
    "df = sns.load_dataset('tips')\n",
    "\n",
    "# Exibindo as primeiras linhas da base de dados\n",
    "print(df.head())"
   ]
  },
  {
   "cell_type": "markdown",
   "id": "977c994c-88ce-4f55-a266-ca3e04524a84",
   "metadata": {},
   "source": [
    "#### Detalhaento das variáveis:\n",
    "\n",
    "- total_bill: valor total da conta.\n",
    "- tip: valor da gorjeta.\n",
    "- sex: sexo da pessoa que deu a gorjeta.\n",
    "- smoker: se a pessoa era fumante.\n",
    "- day: dia da semana em que a gorjeta foi dada.\n",
    "\n",
    "\n",
    "## 1. Amostragem Aleatória Simples\n",
    "Na amostragem aleatória simples, cada observação da base de dados tem a mesma probabilidade de ser selecionada. \n",
    "\n",
    "Vamos dividir o dataset em treino e teste de forma aleatória."
   ]
  },
  {
   "cell_type": "code",
   "execution_count": 2,
   "id": "cb734c9f-e5f5-40be-9a4f-442106587a62",
   "metadata": {},
   "outputs": [
    {
     "data": {
      "text/plain": [
       "array([0, 1, 1, 0, 0, 0, 0, 1, 0, 1, 0, 1, 1, 0, 0, 0, 0, 0, 0, 0, 0, 0,\n",
       "       0, 0, 0, 1, 0, 0, 0, 0, 0, 0, 0, 1, 1, 1, 0, 0, 0, 0, 0, 0, 0, 1,\n",
       "       0, 0, 0, 0, 0, 0, 1, 1, 1, 1, 0, 1, 0, 0, 0, 0, 0, 0, 1, 0, 0, 0,\n",
       "       0, 1, 0, 1, 1, 0, 0, 1, 1, 1, 1, 0, 0, 0, 1, 0, 0, 0, 0, 0, 1, 0,\n",
       "       1, 0, 0, 1, 1, 0, 1, 0, 0, 0, 0, 0, 0, 0, 0, 0, 1, 0, 0, 1, 0, 0,\n",
       "       0, 0, 1, 1, 0, 1, 1, 0, 1, 0, 1, 1, 0, 0, 0, 0, 1, 1, 0, 0, 0, 0,\n",
       "       0, 0, 1, 0, 0, 1, 0, 1, 1, 0, 0, 0, 0, 0, 0, 0, 0, 0, 1, 0, 0, 0,\n",
       "       1, 0, 0, 1, 0, 1, 0, 0, 0, 0, 0, 1, 0, 0, 0, 0, 0, 0, 0, 0, 0, 0,\n",
       "       0, 0, 1, 0, 0, 0, 1, 1, 0, 0, 1, 0, 0, 0, 0, 1, 1, 0, 0, 0, 1, 1,\n",
       "       1, 1, 0, 0, 0, 1, 0, 0, 0, 0, 0, 0, 0, 0, 0, 0, 1, 0, 0, 1, 0, 1,\n",
       "       0, 0, 0, 0, 0, 0, 1, 0, 1, 0, 1, 0, 0, 0, 0, 1, 0, 0, 0, 0, 1, 1,\n",
       "       1, 0])"
      ]
     },
     "execution_count": 2,
     "metadata": {},
     "output_type": "execute_result"
    }
   ],
   "source": [
    "# Geração da amostra com 70% para treino (0) e 30% para teste (1)\n",
    "np.random.seed(42)  # Para garantir reprodutibilidade\n",
    "amostra = np.random.choice([0, 1], size=len(df), p=[0.7, 0.3])\n",
    "amostra"
   ]
  },
  {
   "cell_type": "code",
   "execution_count": 3,
   "id": "69430e99-56ef-4cec-b6a7-52c593d1de24",
   "metadata": {},
   "outputs": [
    {
     "name": "stdout",
     "output_type": "stream",
     "text": [
      "Resumo da amostra:\n",
      "0    0.709016\n",
      "1    0.290984\n",
      "Name: proportion, dtype: float64\n"
     ]
    }
   ],
   "source": [
    "# Resumo da amostra gerada\n",
    "print(\"Resumo da amostra:\")\n",
    "print(pd.Series(amostra).value_counts(normalize=True))"
   ]
  },
  {
   "cell_type": "code",
   "execution_count": 4,
   "id": "3533477f-8794-4cc4-a53a-ab21b4f52a0f",
   "metadata": {},
   "outputs": [],
   "source": [
    "# Dividindo o dataset com base na amostra\n",
    "amostra_30 = df[amostra == 1]  # 30% do dataset para teste\n",
    "amostra_70 = df[amostra == 0]  # 70% do dataset para treino"
   ]
  },
  {
   "cell_type": "code",
   "execution_count": 5,
   "id": "1ce15a4a-5392-4623-a6ed-ae989ac76195",
   "metadata": {},
   "outputs": [
    {
     "name": "stdout",
     "output_type": "stream",
     "text": [
      "\n",
      "Dimensão do conjunto de treino (70%): (173, 7)\n",
      "Dimensão do conjunto de teste (30%): (71, 7)\n"
     ]
    }
   ],
   "source": [
    "# Exibindo o tamanho dos conjuntos\n",
    "print(\"\\nDimensão do conjunto de treino (70%):\", amostra_70.shape)\n",
    "print(\"Dimensão do conjunto de teste (30%):\", amostra_30.shape)"
   ]
  },
  {
   "cell_type": "code",
   "execution_count": 6,
   "id": "ad5559f3-73a2-4fb5-8003-e453c8dbe73e",
   "metadata": {},
   "outputs": [
    {
     "name": "stdout",
     "output_type": "stream",
     "text": [
      "\n",
      "Amostra do conjunto de treino (70%):\n",
      "   total_bill   tip     sex smoker  day    time  size\n",
      "0       16.99  1.01  Female     No  Sun  Dinner     2\n",
      "3       23.68  3.31    Male     No  Sun  Dinner     2\n",
      "4       24.59  3.61  Female     No  Sun  Dinner     4\n",
      "5       25.29  4.71    Male     No  Sun  Dinner     4\n",
      "6        8.77  2.00    Male     No  Sun  Dinner     2\n"
     ]
    }
   ],
   "source": [
    "# Exibindo algumas linhas de cada conjunto\n",
    "print(\"\\nAmostra do conjunto de treino (70%):\")\n",
    "print(amostra_70.head())"
   ]
  },
  {
   "cell_type": "code",
   "execution_count": 7,
   "id": "017527ea-c5d4-4f4f-8234-752c5e52ba56",
   "metadata": {},
   "outputs": [
    {
     "name": "stdout",
     "output_type": "stream",
     "text": [
      "\n",
      "Amostra do conjunto de teste (30%):\n",
      "    total_bill   tip     sex smoker  day    time  size\n",
      "1        10.34  1.66    Male     No  Sun  Dinner     3\n",
      "2        21.01  3.50    Male     No  Sun  Dinner     3\n",
      "7        26.88  3.12    Male     No  Sun  Dinner     4\n",
      "9        14.78  3.23    Male     No  Sun  Dinner     2\n",
      "11       35.26  5.00  Female     No  Sun  Dinner     4\n"
     ]
    }
   ],
   "source": [
    "print(\"\\nAmostra do conjunto de teste (30%):\")\n",
    "print(amostra_30.head())"
   ]
  },
  {
   "cell_type": "markdown",
   "id": "72f7bbf2-6f6d-454e-9d6a-f83c83ecf598",
   "metadata": {},
   "source": [
    "Temos outra forma de realizar o mesmo procedimento:"
   ]
  },
  {
   "cell_type": "code",
   "execution_count": 8,
   "id": "4d84f13a-f1bd-471c-9531-bd9c87024a25",
   "metadata": {},
   "outputs": [],
   "source": [
    "# Definindo o tamanho do conjunto de teste (30% da base)\n",
    "test_size = int(0.3 * len(df))"
   ]
  },
  {
   "cell_type": "code",
   "execution_count": 9,
   "id": "ba993675-cb26-4da3-b18f-95cd4abac21c",
   "metadata": {},
   "outputs": [],
   "source": [
    "# Embaralhando os índices da base de dados para garantir a aleatoriedade\n",
    "shuffled_indices = np.random.permutation(len(df))"
   ]
  },
  {
   "cell_type": "code",
   "execution_count": 10,
   "id": "9cce8461-238a-4fb0-8a23-1d090c8f8232",
   "metadata": {},
   "outputs": [],
   "source": [
    "# Separando os índices de treino e teste\n",
    "test_indices = shuffled_indices[:test_size]\n",
    "train_indices = shuffled_indices[test_size:]"
   ]
  },
  {
   "cell_type": "code",
   "execution_count": 11,
   "id": "5417d3f1-b680-4368-9f66-2633b68c67a4",
   "metadata": {},
   "outputs": [],
   "source": [
    "# Criando os conjuntos de treino e teste\n",
    "train_manual = df.iloc[train_indices]\n",
    "test_manual = df.iloc[test_indices]\n"
   ]
  },
  {
   "cell_type": "code",
   "execution_count": 12,
   "id": "f6140426-7208-4f89-b545-f05bae6471b7",
   "metadata": {},
   "outputs": [
    {
     "name": "stdout",
     "output_type": "stream",
     "text": [
      "Tamanho do conjunto de treino (Amostragem Aleatória Simples Manual): 171\n",
      "Tamanho do conjunto de teste (Amostragem Aleatória Simples Manual): 73\n"
     ]
    }
   ],
   "source": [
    "# Exibindo o tamanho dos conjuntos de treino e teste\n",
    "print(f\"Tamanho do conjunto de treino (Amostragem Aleatória Simples Manual): {len(train_manual)}\")\n",
    "print(f\"Tamanho do conjunto de teste (Amostragem Aleatória Simples Manual): {len(test_manual)}\")"
   ]
  },
  {
   "cell_type": "code",
   "execution_count": 13,
   "id": "34060c85-2ee4-4929-a4f9-098f6ac128ad",
   "metadata": {},
   "outputs": [
    {
     "name": "stdout",
     "output_type": "stream",
     "text": [
      "     total_bill   tip     sex smoker  day    time  size\n",
      "178        9.60  4.00  Female    Yes  Sun  Dinner     2\n",
      "1         10.34  1.66    Male     No  Sun  Dinner     3\n",
      "217       11.59  1.50    Male    Yes  Sat  Dinner     2\n",
      "237       32.83  1.17    Male    Yes  Sat  Dinner     2\n",
      "3         23.68  3.31    Male     No  Sun  Dinner     2\n"
     ]
    }
   ],
   "source": [
    "# Exibindo as primeiras linhas do conjunto de treino\n",
    "print(train_manual.head())"
   ]
  },
  {
   "cell_type": "markdown",
   "id": "1dd1f71a-d6b4-4fa9-a6f1-351d4c295054",
   "metadata": {},
   "source": [
    "## 2. Amostragem Estratificada\n",
    "A amostragem estratificada garante que os subgrupos de uma variável categórica sejam representados de forma proporcional em ambos os conjuntos. Vamos implementar isso sem utilizar funções prontas.\n",
    "\n",
    "Exemplo: Implementando Amostragem Estratificada Manualmente\n",
    "Vamos garantir que a proporção de fumantes e não fumantes no conjunto de treino e teste seja a mesma que no dataset original."
   ]
  },
  {
   "cell_type": "code",
   "execution_count": 14,
   "id": "f4d44a1b-d2e1-4e7f-8600-7c0d4e5383b7",
   "metadata": {},
   "outputs": [],
   "source": [
    "# Dividindo a base de acordo com os estratos (fumante e não fumante)\n",
    "smokers = df[df['smoker'] == 'Yes']\n",
    "non_smokers = df[df['smoker'] == 'No']"
   ]
  },
  {
   "cell_type": "code",
   "execution_count": 15,
   "id": "696f961e-c494-42b8-914d-f6908776965a",
   "metadata": {},
   "outputs": [],
   "source": [
    "# Calculando o tamanho da amostra para cada estrato\n",
    "test_size_smokers = int(0.3 * len(smokers))\n",
    "test_size_non_smokers = int(0.3 * len(non_smokers))"
   ]
  },
  {
   "cell_type": "code",
   "execution_count": 16,
   "id": "bc8b0dbe-86f9-460c-ad69-70645e70f90a",
   "metadata": {},
   "outputs": [],
   "source": [
    "# Embaralhando os dados de cada estrato\n",
    "shuffled_indices_smokers = np.random.permutation(len(smokers))\n",
    "shuffled_indices_non_smokers = np.random.permutation(len(non_smokers))"
   ]
  },
  {
   "cell_type": "code",
   "execution_count": 17,
   "id": "aad2e940-f064-4d0f-9b92-b4df376f7e5d",
   "metadata": {},
   "outputs": [],
   "source": [
    "# Separando os índices de treino e teste para cada estrato\n",
    "test_indices_smokers = shuffled_indices_smokers[:test_size_smokers]\n",
    "train_indices_smokers = shuffled_indices_smokers[test_size_smokers:]\n",
    "\n",
    "test_indices_non_smokers = shuffled_indices_non_smokers[:test_size_non_smokers]\n",
    "train_indices_non_smokers = shuffled_indices_non_smokers[test_size_non_smokers:]"
   ]
  },
  {
   "cell_type": "code",
   "execution_count": 18,
   "id": "05c444d2-18bc-45d5-9ccc-84408e330525",
   "metadata": {},
   "outputs": [
    {
     "data": {
      "text/plain": [
       "array([132,  69, 105, 128, 120,  63,  18,  74, 137,  92,  82,   6,   8,\n",
       "        66, 136, 140,  41, 118,  12,  21,  93, 131,  79,  19,  94,  30,\n",
       "        51,  35, 119,  75,  28,  60,  57, 130,  39,  23,  98,  42, 139,\n",
       "       103, 102, 111,  99, 129,  90])"
      ]
     },
     "execution_count": 18,
     "metadata": {},
     "output_type": "execute_result"
    }
   ],
   "source": [
    "test_indices_non_smokers"
   ]
  },
  {
   "cell_type": "code",
   "execution_count": 21,
   "id": "cbeec189-757c-4ebf-90f5-ce9428c075c2",
   "metadata": {},
   "outputs": [],
   "source": [
    "train_smokers = df.iloc[train_indices_smokers]\n",
    "test_smokers = df.iloc[test_indices_smokers]"
   ]
  },
  {
   "cell_type": "code",
   "execution_count": 22,
   "id": "299d1207-70b7-4008-bfca-fec36ac79005",
   "metadata": {},
   "outputs": [
    {
     "data": {
      "text/html": [
       "<div>\n",
       "<style scoped>\n",
       "    .dataframe tbody tr th:only-of-type {\n",
       "        vertical-align: middle;\n",
       "    }\n",
       "\n",
       "    .dataframe tbody tr th {\n",
       "        vertical-align: top;\n",
       "    }\n",
       "\n",
       "    .dataframe thead th {\n",
       "        text-align: right;\n",
       "    }\n",
       "</style>\n",
       "<table border=\"1\" class=\"dataframe\">\n",
       "  <thead>\n",
       "    <tr style=\"text-align: right;\">\n",
       "      <th></th>\n",
       "      <th>total_bill</th>\n",
       "      <th>tip</th>\n",
       "      <th>sex</th>\n",
       "      <th>smoker</th>\n",
       "      <th>day</th>\n",
       "      <th>time</th>\n",
       "      <th>size</th>\n",
       "    </tr>\n",
       "  </thead>\n",
       "  <tbody>\n",
       "    <tr>\n",
       "      <th>19</th>\n",
       "      <td>20.65</td>\n",
       "      <td>3.35</td>\n",
       "      <td>Male</td>\n",
       "      <td>No</td>\n",
       "      <td>Sat</td>\n",
       "      <td>Dinner</td>\n",
       "      <td>3</td>\n",
       "    </tr>\n",
       "    <tr>\n",
       "      <th>61</th>\n",
       "      <td>13.81</td>\n",
       "      <td>2.00</td>\n",
       "      <td>Male</td>\n",
       "      <td>Yes</td>\n",
       "      <td>Sat</td>\n",
       "      <td>Dinner</td>\n",
       "      <td>2</td>\n",
       "    </tr>\n",
       "    <tr>\n",
       "      <th>29</th>\n",
       "      <td>19.65</td>\n",
       "      <td>3.00</td>\n",
       "      <td>Female</td>\n",
       "      <td>No</td>\n",
       "      <td>Sat</td>\n",
       "      <td>Dinner</td>\n",
       "      <td>2</td>\n",
       "    </tr>\n",
       "    <tr>\n",
       "      <th>90</th>\n",
       "      <td>28.97</td>\n",
       "      <td>3.00</td>\n",
       "      <td>Male</td>\n",
       "      <td>Yes</td>\n",
       "      <td>Fri</td>\n",
       "      <td>Dinner</td>\n",
       "      <td>2</td>\n",
       "    </tr>\n",
       "    <tr>\n",
       "      <th>69</th>\n",
       "      <td>15.01</td>\n",
       "      <td>2.09</td>\n",
       "      <td>Male</td>\n",
       "      <td>Yes</td>\n",
       "      <td>Sat</td>\n",
       "      <td>Dinner</td>\n",
       "      <td>2</td>\n",
       "    </tr>\n",
       "    <tr>\n",
       "      <th>...</th>\n",
       "      <td>...</td>\n",
       "      <td>...</td>\n",
       "      <td>...</td>\n",
       "      <td>...</td>\n",
       "      <td>...</td>\n",
       "      <td>...</td>\n",
       "      <td>...</td>\n",
       "    </tr>\n",
       "    <tr>\n",
       "      <th>51</th>\n",
       "      <td>10.29</td>\n",
       "      <td>2.60</td>\n",
       "      <td>Female</td>\n",
       "      <td>No</td>\n",
       "      <td>Sun</td>\n",
       "      <td>Dinner</td>\n",
       "      <td>2</td>\n",
       "    </tr>\n",
       "    <tr>\n",
       "      <th>77</th>\n",
       "      <td>27.20</td>\n",
       "      <td>4.00</td>\n",
       "      <td>Male</td>\n",
       "      <td>No</td>\n",
       "      <td>Thur</td>\n",
       "      <td>Lunch</td>\n",
       "      <td>4</td>\n",
       "    </tr>\n",
       "    <tr>\n",
       "      <th>27</th>\n",
       "      <td>12.69</td>\n",
       "      <td>2.00</td>\n",
       "      <td>Male</td>\n",
       "      <td>No</td>\n",
       "      <td>Sat</td>\n",
       "      <td>Dinner</td>\n",
       "      <td>2</td>\n",
       "    </tr>\n",
       "    <tr>\n",
       "      <th>70</th>\n",
       "      <td>12.02</td>\n",
       "      <td>1.97</td>\n",
       "      <td>Male</td>\n",
       "      <td>No</td>\n",
       "      <td>Sat</td>\n",
       "      <td>Dinner</td>\n",
       "      <td>2</td>\n",
       "    </tr>\n",
       "    <tr>\n",
       "      <th>8</th>\n",
       "      <td>15.04</td>\n",
       "      <td>1.96</td>\n",
       "      <td>Male</td>\n",
       "      <td>No</td>\n",
       "      <td>Sun</td>\n",
       "      <td>Dinner</td>\n",
       "      <td>2</td>\n",
       "    </tr>\n",
       "  </tbody>\n",
       "</table>\n",
       "<p>66 rows × 7 columns</p>\n",
       "</div>"
      ],
      "text/plain": [
       "    total_bill   tip     sex smoker   day    time  size\n",
       "19       20.65  3.35    Male     No   Sat  Dinner     3\n",
       "61       13.81  2.00    Male    Yes   Sat  Dinner     2\n",
       "29       19.65  3.00  Female     No   Sat  Dinner     2\n",
       "90       28.97  3.00    Male    Yes   Fri  Dinner     2\n",
       "69       15.01  2.09    Male    Yes   Sat  Dinner     2\n",
       "..         ...   ...     ...    ...   ...     ...   ...\n",
       "51       10.29  2.60  Female     No   Sun  Dinner     2\n",
       "77       27.20  4.00    Male     No  Thur   Lunch     4\n",
       "27       12.69  2.00    Male     No   Sat  Dinner     2\n",
       "70       12.02  1.97    Male     No   Sat  Dinner     2\n",
       "8        15.04  1.96    Male     No   Sun  Dinner     2\n",
       "\n",
       "[66 rows x 7 columns]"
      ]
     },
     "execution_count": 22,
     "metadata": {},
     "output_type": "execute_result"
    }
   ],
   "source": [
    "train_smokers"
   ]
  },
  {
   "cell_type": "markdown",
   "id": "b87516b7-fe11-4a2b-b739-7fd4a423a94a",
   "metadata": {},
   "source": [
    "## 3. Amostragem Sistemática\n",
    "Na amostragem sistemática, a seleção de amostras ocorre em intervalos regulares após escolher um ponto inicial aleatório. Essa técnica é útil quando os dados estão ordenados aleatoriamente.\n",
    "\n",
    "Exemplo: Implementando Amostragem Sistemática\n",
    "Neste exemplo, vamos selecionar uma amostra sistemática, onde escolhemos um ponto inicial aleatório e pegamos uma observação a cada k elementos."
   ]
  },
  {
   "cell_type": "code",
   "execution_count": 23,
   "id": "f0ce7113-8af9-4e80-a3ba-1a1d8385bf31",
   "metadata": {},
   "outputs": [],
   "source": [
    "# Função para realizar amostragem sistemática\n",
    "def systematic_sampling(df, sample_size):\n",
    "    step = len(df) // sample_size  # Calculando o intervalo (k)\n",
    "    start = np.random.randint(0, step)  # Escolhendo um ponto inicial aleatório\n",
    "    indices = np.arange(start, len(df), step)  # Selecionando a cada k elementos\n",
    "    return df.iloc[indices]"
   ]
  },
  {
   "cell_type": "code",
   "execution_count": 24,
   "id": "312ac7c3-0fa1-4ae5-9e75-2cb71c8e475c",
   "metadata": {},
   "outputs": [],
   "source": [
    "# Selecionando 30% de amostra sistemática\n",
    "sample_size = int(len(df) * 0.3)\n",
    "systematic_sample = systematic_sampling(df, sample_size)"
   ]
  },
  {
   "cell_type": "code",
   "execution_count": 25,
   "id": "a5566ccd-c8e0-4fbf-b296-417e617fad6c",
   "metadata": {},
   "outputs": [
    {
     "name": "stdout",
     "output_type": "stream",
     "text": [
      "Tamanho da amostra sistemática: 82\n",
      "    total_bill   tip     sex smoker  day    time  size\n",
      "0        16.99  1.01  Female     No  Sun  Dinner     2\n",
      "3        23.68  3.31    Male     No  Sun  Dinner     2\n",
      "6         8.77  2.00    Male     No  Sun  Dinner     2\n",
      "9        14.78  3.23    Male     No  Sun  Dinner     2\n",
      "12       15.42  1.57    Male     No  Sun  Dinner     2\n"
     ]
    }
   ],
   "source": [
    "# Exibindo o tamanho da amostra sistemática e as primeiras linhas\n",
    "print(f\"Tamanho da amostra sistemática: {len(systematic_sample)}\")\n",
    "print(systematic_sample.head())"
   ]
  },
  {
   "cell_type": "code",
   "execution_count": null,
   "id": "dc891c95-398c-425e-b44e-036e461f3cc2",
   "metadata": {},
   "outputs": [],
   "source": []
  },
  {
   "cell_type": "code",
   "execution_count": null,
   "id": "a324fbef-9e16-4c1a-ad56-90471b9095d7",
   "metadata": {},
   "outputs": [],
   "source": []
  }
 ],
 "metadata": {
  "kernelspec": {
   "display_name": "Python 3 (ipykernel)",
   "language": "python",
   "name": "python3"
  },
  "language_info": {
   "codemirror_mode": {
    "name": "ipython",
    "version": 3
   },
   "file_extension": ".py",
   "mimetype": "text/x-python",
   "name": "python",
   "nbconvert_exporter": "python",
   "pygments_lexer": "ipython3",
   "version": "3.11.7"
  }
 },
 "nbformat": 4,
 "nbformat_minor": 5
}
